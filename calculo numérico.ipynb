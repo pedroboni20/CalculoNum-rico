{
 "cells": [
  {
   "cell_type": "code",
   "execution_count": 49,
   "metadata": {},
   "outputs": [],
   "source": [
    "import numpy as np\n",
    "import matplotlib.pyplot as plt"
   ]
  },
  {
   "cell_type": "markdown",
   "metadata": {},
   "source": [
    "###### Um fazendeiro, verificando a necessidade de construir um novo estábulo, escolheu um local próximo \n",
    "###### a uma nascente, de forma que, perto do estábulo, pudesse ter também um reservatório de água. \n",
    "###### Junto à nascente ele construiu uma barragem e instalou uma bomba, para que a água pudesse \n",
    "###### chegar ao reservatório. Verificou-se que:\n",
    "###### i) A vazão da fonte de alimentação, Q, era aproximadamente de 30 litros por minuto (quantidade de água que aflui à bomba).\n",
    "###### ii) A altura da queda, h, era de 6 metros (altura entre a bomba e o nível da água da fonte de alimentação).\n",
    "###### iii) O reservatório encontrava-se a uma altura de recalque, H, de 46 metros (altura entre a bomba e o nível da água no reservatório).\n",
    "###### Munido destes dados, o fazendeiro gostaria de saber quantas vacas leiteiras poderiam ocupar o \n",
    "###### estábulo, sabendo que o consumo diário de cada uma, incluindo o asseio do estábulo, é de 120 litros.\n",
    "###### Observe que, para resolver o problema, deve-se calcular a vazão de recalque, q, que é a quantidade \n",
    "###### de litros por minuto que entram no reservatório.\n",
    "###### onde R é o rendimento da bomba.\n",
    "###### Conclui-se, portanto, que para determinar a vazão de recalque é necessário conhecer o rendimento \n",
    "###### da bomba. A tabela a seguir relaciona a razão entre as alturas h/H  e o rendimento da bomba instalada.\n",
    "###### Consultando a tabela, verificou-se que para calcular o R associado a um valor de h/H  deveria ser feita \n",
    "###### uma regressão linear. Usando o método dos mínimos quadrados, ajude o fazendeiro a fazer o cálculo."
   ]
  },
  {
   "cell_type": "code",
   "execution_count": 2,
   "metadata": {},
   "outputs": [],
   "source": [
    "def pv(u, v):\n",
    "    pv = u*v\n",
    "    pv = np.cumsum(pv)\n",
    "    pv = pv[len(pv)-1]\n",
    "    return pv"
   ]
  },
  {
   "cell_type": "code",
   "execution_count": 18,
   "metadata": {},
   "outputs": [],
   "source": [
    "u0 = np.array([1,1,1,1,1,1,1])\n",
    "u1 = np.array([6, 6.5, 7, 7.5, 8, 8.5, 9])"
   ]
  },
  {
   "cell_type": "code",
   "execution_count": 20,
   "metadata": {},
   "outputs": [],
   "source": [
    "y = np.array([0.6728, 0.6476, 0.6214, 0.5940, 0.5653, 0.5350, 0.5020])"
   ]
  },
  {
   "cell_type": "code",
   "execution_count": 22,
   "metadata": {},
   "outputs": [],
   "source": [
    "a = np.array([[pv(u0, u0), pv(u1, u0)],\n",
    "             [pv(u0, u1), pv(u1, u1)]])"
   ]
  },
  {
   "cell_type": "code",
   "execution_count": 23,
   "metadata": {},
   "outputs": [],
   "source": [
    "b = np.array([[pv(y, u0)],\n",
    "             [pv(y, u1)]])"
   ]
  },
  {
   "cell_type": "code",
   "execution_count": 24,
   "metadata": {},
   "outputs": [],
   "source": [
    "n = np.linalg.inv(a)\n",
    "p = np.dot(n, b)"
   ]
  },
  {
   "cell_type": "code",
   "execution_count": 25,
   "metadata": {},
   "outputs": [
    {
     "data": {
      "text/plain": [
       "array([[ 1.01635357],\n",
       "       [-0.05669286]])"
      ]
     },
     "execution_count": 25,
     "metadata": {},
     "output_type": "execute_result"
    }
   ],
   "source": [
    "p"
   ]
  },
  {
   "cell_type": "code",
   "execution_count": 26,
   "metadata": {},
   "outputs": [
    {
     "data": {
      "text/plain": [
       "-0.0566928571428571"
      ]
     },
     "execution_count": 26,
     "metadata": {},
     "output_type": "execute_result"
    }
   ],
   "source": [
    "p[1,0]"
   ]
  },
  {
   "cell_type": "code",
   "execution_count": 27,
   "metadata": {},
   "outputs": [
    {
     "name": "stdout",
     "output_type": "stream",
     "text": [
      "O polinômio interpolador é: -0.0566928571428571x + 1.0163535714285743\n"
     ]
    }
   ],
   "source": [
    "print(f'O polinômio interpolador é: {p[1,0]}x + {p[0,0]}')"
   ]
  },
  {
   "cell_type": "code",
   "execution_count": 28,
   "metadata": {},
   "outputs": [],
   "source": [
    "def f(x, a, b):\n",
    "    return (a*x) + b"
   ]
  },
  {
   "cell_type": "code",
   "execution_count": 45,
   "metadata": {},
   "outputs": [],
   "source": [
    "val = np.linspace(6,9,50)"
   ]
  },
  {
   "cell_type": "code",
   "execution_count": 48,
   "metadata": {},
   "outputs": [
    {
     "data": {
      "text/plain": [
       "Text(0,0.5,'h/H')"
      ]
     },
     "execution_count": 48,
     "metadata": {},
     "output_type": "execute_result"
    },
    {
     "data": {
      "image/png": "[encoded data removed]",
      "text/plain": [
       "<Figure size 432x288 with 1 Axes>"
      ]
     },
     "metadata": {
      "needs_background": "light"
     },
     "output_type": "display_data"
    }
   ],
   "source": [
    "plt.plot(val, f(val, p[1,0], p[0,0]))\n",
    "plt.plot(u1, y, '.')\n",
    "plt.title('Regressão Linear')\n",
    "plt.xlabel('Rendimento')\n",
    "plt.ylabel('h/H')"
   ]
  },
  {
   "cell_type": "code",
   "execution_count": 43,
   "metadata": {},
   "outputs": [
    {
     "name": "stdout",
     "output_type": "stream",
     "text": [
      "O rendimento é de 1.0089588509316798\n",
      "A vazão é de 3.9480998514717904 l/min\n",
      "O fazendeiro poderá ter 47 vacas\n"
     ]
    }
   ],
   "source": [
    "rendimento = f(6/46, p[1,0], p[0,0])\n",
    "vazao = 30*(6/46)*rendimento\n",
    "print(f'O rendimento é de {rendimento}')\n",
    "print(f'A vazão é de {vazao} l/min')\n",
    "h_dias = 24*60\n",
    "agua = vazao * h_dias\n",
    "vacas = agua/120\n",
    "print(f'O fazendeiro poderá ter {int(vacas//1)} vacas')"
   ]
  },
  {
   "cell_type": "code",
   "execution_count": null,
   "metadata": {},
   "outputs": [],
   "source": []
  }
 ],
 "metadata": {
  "kernelspec": {
   "display_name": "Python 3",
   "language": "python",
   "name": "python3"
  },
  "language_info": {
   "codemirror_mode": {
    "name": "ipython",
    "version": 3
   },
   "file_extension": ".py",
   "mimetype": "text/x-python",
   "name": "python",
   "nbconvert_exporter": "python",
   "pygments_lexer": "ipython3",
   "version": "3.7.0"
  }
 },
 "nbformat": 4,
 "nbformat_minor": 2
}
